{
 "cells": [
  {
   "cell_type": "code",
   "execution_count": 5,
   "id": "60c12611",
   "metadata": {},
   "outputs": [
    {
     "name": "stdout",
     "output_type": "stream",
     "text": [
      "高知県 江川崎 41 2013-08-12\n",
      "\n",
      "埼玉県 熊谷 40.9 2007-08-16\n",
      "\n",
      "岐阜県 多治見 40.9 2007-08-16\n",
      "\n",
      "山形県 山形 40.8 1933-07-25\n",
      "\n",
      "山梨県 甲府 40.7 2013-08-10\n",
      "\n",
      "和歌山県 かつらぎ 40.6 1994-08-08\n",
      "\n",
      "静岡県 天竜 40.6 1994-08-04\n",
      "\n",
      "山梨県 勝沼 40.5 2013-08-10\n",
      "\n",
      "埼玉県 越谷 40.4 2007-08-16\n",
      "\n",
      "群馬県 館林 40.3 2007-08-16\n",
      "\n",
      "群馬県 上里見 40.3 1998-07-04\n",
      "\n",
      "愛知県 愛西 40.3 1994-08-05\n",
      "\n",
      "千葉県 牛久 40.2 2004-07-20\n",
      "\n",
      "静岡県 佐久間 40.2 2001-07-24\n",
      "\n",
      "愛媛県 宇和島 40.2 1927-07-22\n",
      "\n",
      "山形県 酒田 40.1 1978-08-03\n",
      "\n",
      "岐阜県 美濃 40 2007-08-16\n",
      "\n",
      "群馬県 前橋 40 2001-07-24\n",
      "\n",
      "千葉県 茂原 39.9 2013-08-11\n",
      "\n",
      "埼玉県 鳩山 39.9 1997-07-05\n",
      "\n",
      "大阪府 豊中 39.9 1994-08-08\n",
      "\n",
      "山梨県 大月 39.9 1990-07-19\n",
      "\n",
      "山形県 鶴岡 39.9 1978-08-03\n",
      "\n",
      "愛知県 名古屋 39.9 1942-08-02\n",
      "\n"
     ]
    }
   ],
   "source": [
    "with open('hightemp.txt') as file:\n",
    "    for i in file:\n",
    "        i = i.replace(\"\\t\", ' ')\n",
    "        print(i)"
   ]
  },
  {
   "cell_type": "code",
   "execution_count": 9,
   "id": "efaf4d87",
   "metadata": {},
   "outputs": [],
   "source": [
    "#xacx nhan bang lenh unix\n",
    "!sed -n 's/'\\t'/ /p' hightemp.txt\n"
   ]
  },
  {
   "cell_type": "code",
   "execution_count": 10,
   "id": "13d48b67",
   "metadata": {},
   "outputs": [
    {
     "name": "stdout",
     "output_type": "stream",
     "text": [
      "高知県\t江川崎\t41\t2013-08-12\r\n",
      "埼玉県\t熊谷\t40.9\t2007-08-16\r\n",
      "岐阜県\t多治見\t40.9\t2007-08-16\r\n",
      "山形県\t山形\t40.8\t1933-07-25\r\n",
      "山梨県\t甲府\t40.7\t2013-08-10\r\n",
      "和歌山県\tかつらぎ\t40.6\t1994-08-08\r\n",
      "静岡県\t天竜\t40.6\t1994-08-04\r\n",
      "山梨県\t勝沼\t40.5\t2013-08-10\r\n",
      "埼玉県\t越谷\t40.4\t2007-08-16\r\n",
      "群馬県\t館林\t40.3\t2007-08-16\r\n",
      "群馬県\t上里見\t40.3\t1998-07-04\r\n",
      "愛知県\t愛西\t40.3\t1994-08-05\r\n",
      "千葉県\t牛久\t40.2\t2004-07-20\r\n",
      "静岡県\t佐久間\t40.2\t2001-07-24\r\n",
      "愛媛県\t宇和島\t40.2\t1927-07-22\r\n",
      "山形県\t酒田\t40.1\t1978-08-03\r\n",
      "岐阜県\t美濃\t40\t2007-08-16\r\n",
      "群馬県\t前橋\t40\t2001-07-24\r\n",
      "千葉県\t茂原\t39.9\t2013-08-11\r\n",
      "埼玉県\t鳩山\t39.9\t1997-07-05\r\n",
      "大阪府\t豊中\t39.9\t1994-08-08\r\n",
      "山梨県\t大月\t39.9\t1990-07-19\r\n",
      "山形県\t鶴岡\t39.9\t1978-08-03\r\n",
      "愛知県\t名古屋\t39.9\t1942-08-02\r\n"
     ]
    }
   ],
   "source": [
    "!cat hightemp.txt"
   ]
  },
  {
   "cell_type": "code",
   "execution_count": null,
   "id": "12c0aab8",
   "metadata": {},
   "outputs": [],
   "source": []
  }
 ],
 "metadata": {
  "kernelspec": {
   "display_name": "Python 3",
   "language": "python",
   "name": "python3"
  },
  "language_info": {
   "codemirror_mode": {
    "name": "ipython",
    "version": 3
   },
   "file_extension": ".py",
   "mimetype": "text/x-python",
   "name": "python",
   "nbconvert_exporter": "python",
   "pygments_lexer": "ipython3",
   "version": "3.8.10"
  }
 },
 "nbformat": 4,
 "nbformat_minor": 5
}
