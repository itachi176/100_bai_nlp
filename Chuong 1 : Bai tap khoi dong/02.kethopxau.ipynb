{
 "cells": [
  {
   "cell_type": "code",
   "execution_count": 1,
   "id": "0ce33e14",
   "metadata": {},
   "outputs": [
    {
     "data": {
      "text/plain": [
       "'PartrolCar'"
      ]
     },
     "execution_count": 1,
     "metadata": {},
     "output_type": "execute_result"
    }
   ],
   "source": [
    "s1 = \"Partrol\"\n",
    "s2 = \"Car\"\n",
    "\n",
    "s1+s2 "
   ]
  },
  {
   "cell_type": "code",
   "execution_count": null,
   "id": "6be2e37a",
   "metadata": {},
   "outputs": [],
   "source": []
  }
 ],
 "metadata": {
  "kernelspec": {
   "display_name": "Python 3",
   "language": "python",
   "name": "python3"
  },
  "language_info": {
   "codemirror_mode": {
    "name": "ipython",
    "version": 3
   },
   "file_extension": ".py",
   "mimetype": "text/x-python",
   "name": "python",
   "nbconvert_exporter": "python",
   "pygments_lexer": "ipython3",
   "version": "3.8.10"
  }
 },
 "nbformat": 4,
 "nbformat_minor": 5
}
