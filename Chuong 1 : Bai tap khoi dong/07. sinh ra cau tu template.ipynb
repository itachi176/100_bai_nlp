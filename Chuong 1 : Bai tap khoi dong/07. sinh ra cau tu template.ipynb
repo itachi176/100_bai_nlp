{
 "cells": [
  {
   "cell_type": "code",
   "execution_count": 5,
   "id": "82de88eb",
   "metadata": {},
   "outputs": [
    {
     "data": {
      "text/plain": [
       "'nhiet do vao luc 12 gio la 22.4'"
      ]
     },
     "execution_count": 5,
     "metadata": {},
     "output_type": "execute_result"
    }
   ],
   "source": [
    "def fuc(x, y, z):\n",
    "    return \"{} vao luc {} gio la {}\".format(y,x,z)\n",
    "\n",
    "x = \"12\" \n",
    "y = \"nhiet do\" \n",
    "z = 22.4\n",
    "\n",
    "fuc(x, y, z)"
   ]
  },
  {
   "cell_type": "code",
   "execution_count": null,
   "id": "6ea95206",
   "metadata": {},
   "outputs": [],
   "source": []
  }
 ],
 "metadata": {
  "kernelspec": {
   "display_name": "Python 3",
   "language": "python",
   "name": "python3"
  },
  "language_info": {
   "codemirror_mode": {
    "name": "ipython",
    "version": 3
   },
   "file_extension": ".py",
   "mimetype": "text/x-python",
   "name": "python",
   "nbconvert_exporter": "python",
   "pygments_lexer": "ipython3",
   "version": "3.8.10"
  }
 },
 "nbformat": 4,
 "nbformat_minor": 5
}
