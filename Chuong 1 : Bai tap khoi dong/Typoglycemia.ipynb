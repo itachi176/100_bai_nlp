{
 "cells": [
  {
   "cell_type": "code",
   "execution_count": 4,
   "id": "dccfff20",
   "metadata": {},
   "outputs": [],
   "source": [
    "import random\n",
    "def Typoglycemia(text):\n",
    "    token = text.split(\" \")\n",
    "    newText= \"\"\n",
    "    if (len(token) > 4): \n",
    "        i = 1\n",
    "        while(i<len(token)-1):\n",
    "            j = random.randint(1,len(token)-1)\n",
    "            token[i] = token[j]\n",
    "            i += 1\n",
    "            \n",
    "        for x in token:\n",
    "            newText += \" \" + x \n",
    "    return newText\n",
    "    "
   ]
  },
  {
   "cell_type": "code",
   "execution_count": 5,
   "id": "fcb6abf0",
   "metadata": {},
   "outputs": [
    {
     "data": {
      "text/plain": [
       "' I phenomenal power power was I of power what what what mind what of of . the the power mind .'"
      ]
     },
     "execution_count": 5,
     "metadata": {},
     "output_type": "execute_result"
    }
   ],
   "source": [
    "Typoglycemia(\"I couldn't believe that I could actually understand what I was reading : the phenomenal power of the human mind .\")"
   ]
  },
  {
   "cell_type": "code",
   "execution_count": null,
   "id": "b74f498e",
   "metadata": {},
   "outputs": [],
   "source": []
  }
 ],
 "metadata": {
  "kernelspec": {
   "display_name": "Python 3",
   "language": "python",
   "name": "python3"
  },
  "language_info": {
   "codemirror_mode": {
    "name": "ipython",
    "version": 3
   },
   "file_extension": ".py",
   "mimetype": "text/x-python",
   "name": "python",
   "nbconvert_exporter": "python",
   "pygments_lexer": "ipython3",
   "version": "3.8.10"
  }
 },
 "nbformat": 4,
 "nbformat_minor": 5
}
