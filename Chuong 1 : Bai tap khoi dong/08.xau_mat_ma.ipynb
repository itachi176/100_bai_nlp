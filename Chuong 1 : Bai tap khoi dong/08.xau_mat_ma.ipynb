{
 "cells": [
  {
   "cell_type": "code",
   "execution_count": 8,
   "id": "a2f7a1e0",
   "metadata": {},
   "outputs": [
    {
     "data": {
      "text/plain": [
       "False"
      ]
     },
     "execution_count": 8,
     "metadata": {},
     "output_type": "execute_result"
    }
   ],
   "source": [
    "'c'.isupper()"
   ]
  },
  {
   "cell_type": "code",
   "execution_count": 45,
   "id": "9ebf7e2b",
   "metadata": {},
   "outputs": [
    {
     "data": {
      "text/plain": [
       "['H', '97', '115', '115', '115', '115']"
      ]
     },
     "execution_count": 45,
     "metadata": {},
     "output_type": "execute_result"
    }
   ],
   "source": [
    "def cipher(s):\n",
    "    code = []\n",
    "  \n",
    "    for i in range(len(s)):\n",
    "        a = ''\n",
    "        if (s[i].islower()):\n",
    "#             s = s.replace(s[i], str(ord(s[i])))\n",
    "            a = a.replace('', str(ord(s[i])))\n",
    "            code.append(a)\n",
    "        else:\n",
    "            code.append(s[i])\n",
    "    return code\n",
    "\n",
    "cipher(\"Hassss\")"
   ]
  },
  {
   "cell_type": "code",
   "execution_count": 81,
   "id": "331a4c5b",
   "metadata": {},
   "outputs": [
    {
     "name": "stdout",
     "output_type": "stream",
     "text": [
      "6\n"
     ]
    },
    {
     "data": {
      "text/plain": [
       "'Hassss'"
      ]
     },
     "execution_count": 81,
     "metadata": {},
     "output_type": "execute_result"
    }
   ],
   "source": [
    "def decipher(code):\n",
    "    s = ''\n",
    "    print(len(code))\n",
    "    for i in range(6):\n",
    "        if code[i].isupper():\n",
    "            s += code[i]\n",
    "        else: s += chr(int(code[i]))\n",
    "            \n",
    "        \n",
    "    return s \n",
    "    \n",
    "decipher(['H', '97', '115', '115', '115', '115'])\n",
    "    "
   ]
  }
 ],
 "metadata": {
  "kernelspec": {
   "display_name": "Python 3",
   "language": "python",
   "name": "python3"
  },
  "language_info": {
   "codemirror_mode": {
    "name": "ipython",
    "version": 3
   },
   "file_extension": ".py",
   "mimetype": "text/x-python",
   "name": "python",
   "nbconvert_exporter": "python",
   "pygments_lexer": "ipython3",
   "version": "3.8.10"
  }
 },
 "nbformat": 4,
 "nbformat_minor": 5
}
