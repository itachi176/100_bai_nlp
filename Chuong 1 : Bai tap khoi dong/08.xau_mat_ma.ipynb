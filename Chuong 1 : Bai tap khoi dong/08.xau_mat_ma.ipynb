{
 "cells": [
  {
   "cell_type": "code",
   "execution_count": 8,
   "id": "c841d8d8",
   "metadata": {},
   "outputs": [
    {
     "data": {
      "text/plain": [
       "False"
      ]
     },
     "execution_count": 8,
     "metadata": {},
     "output_type": "execute_result"
    }
   ],
   "source": [
    "'c'.isupper()"
   ]
  },
  {
   "cell_type": "code",
   "execution_count": 45,
   "id": "105f6e68",
   "metadata": {},
   "outputs": [
    {
     "data": {
      "text/plain": [
       "['H', '97', '115', '115', '115', '115']"
      ]
     },
     "execution_count": 45,
     "metadata": {},
     "output_type": "execute_result"
    }
   ],
   "source": [
    "def cipher(s):\n",
    "    code = []\n",
    "  \n",
    "    for i in range(len(s)):\n",
    "        a = ''\n",
    "        if (s[i].islower()):\n",
    "#             s = s.replace(s[i], str(ord(s[i])))\n",
    "            a = a.replace('', str(ord(s[i])))\n",
    "            code.append(a)\n",
    "        else:\n",
    "            code.append(s[i])\n",
    "    return code\n",
    "\n",
    "cipher(\"Hassss\")"
   ]
  },
  {
   "cell_type": "code",
   "execution_count": 81,
   "id": "676d41d0",
   "metadata": {},
   "outputs": [
    {
     "name": "stdout",
     "output_type": "stream",
     "text": [
      "6\n"
     ]
    },
    {
     "data": {
      "text/plain": [
       "'Hassss'"
      ]
     },
     "execution_count": 81,
     "metadata": {},
     "output_type": "execute_result"
    }
   ],
   "source": [
    "def decipher(code):\n",
    "    s = ''\n",
    "    print(len(code))\n",
    "    for i in range(6):\n",
    "        if code[i].isupper():\n",
    "            s += code[i]\n",
    "        else: s += chr(int(code[i]))\n",
    "            \n",
    "        \n",
    "    return s \n",
    "    \n",
    "decipher(['H', '97', '115', '115', '115', '115'])\n",
    "    "
   ]
  },
  {
   "cell_type": "code",
   "execution_count": null,
   "id": "41fa0862",
   "metadata": {},
   "outputs": [],
   "source": []
  },
  {
   "cell_type": "code",
   "execution_count": 53,
   "id": "5a3dfa95",
   "metadata": {},
   "outputs": [
    {
     "data": {
      "text/plain": [
       "'a'"
      ]
     },
     "execution_count": 53,
     "metadata": {},
     "output_type": "execute_result"
    }
   ],
   "source": [
    "chr(int(code[1]))"
   ]
  },
  {
   "cell_type": "code",
   "execution_count": 57,
   "id": "1b720e58",
   "metadata": {},
   "outputs": [
    {
     "data": {
      "text/plain": [
       "False"
      ]
     },
     "execution_count": 57,
     "metadata": {},
     "output_type": "execute_result"
    }
   ],
   "source": [
    "code[1].isupper()"
   ]
  },
  {
   "cell_type": "code",
   "execution_count": 60,
   "id": "c994b3ca",
   "metadata": {},
   "outputs": [
    {
     "data": {
      "text/plain": [
       "6"
      ]
     },
     "execution_count": 60,
     "metadata": {},
     "output_type": "execute_result"
    }
   ],
   "source": [
    "len(code)"
   ]
  },
  {
   "cell_type": "code",
   "execution_count": null,
   "id": "5aca9e45",
   "metadata": {},
   "outputs": [],
   "source": []
  },
  {
   "cell_type": "code",
   "execution_count": null,
   "id": "e00b5219",
   "metadata": {},
   "outputs": [],
   "source": []
  }
 ],
 "metadata": {
  "kernelspec": {
   "display_name": "Python 3",
   "language": "python",
   "name": "python3"
  },
  "language_info": {
   "codemirror_mode": {
    "name": "ipython",
    "version": 3
   },
   "file_extension": ".py",
   "mimetype": "text/x-python",
   "name": "python",
   "nbconvert_exporter": "python",
   "pygments_lexer": "ipython3",
   "version": "3.8.10"
  }
 },
 "nbformat": 4,
 "nbformat_minor": 5
}
