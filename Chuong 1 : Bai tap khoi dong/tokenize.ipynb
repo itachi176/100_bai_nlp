{
 "cells": [
  {
   "cell_type": "code",
   "execution_count": 3,
   "id": "3f0fef8c",
   "metadata": {},
   "outputs": [
    {
     "data": {
      "text/plain": [
       "15"
      ]
     },
     "execution_count": 3,
     "metadata": {},
     "output_type": "execute_result"
    }
   ],
   "source": [
    "para = \"Now I need a drink, alcoholic of course, after the heavy lectures involving quantum mechanics.\"\n",
    "token = para.split(\" \")\n",
    "len(token)"
   ]
  },
  {
   "cell_type": "code",
   "execution_count": null,
   "id": "6fae8077",
   "metadata": {},
   "outputs": [],
   "source": [
    "list_para = []\n",
    "list "
   ]
  }
 ],
 "metadata": {
  "kernelspec": {
   "display_name": "Python 3",
   "language": "python",
   "name": "python3"
  },
  "language_info": {
   "codemirror_mode": {
    "name": "ipython",
    "version": 3
   },
   "file_extension": ".py",
   "mimetype": "text/x-python",
   "name": "python",
   "nbconvert_exporter": "python",
   "pygments_lexer": "ipython3",
   "version": "3.8.10"
  }
 },
 "nbformat": 4,
 "nbformat_minor": 5
}
