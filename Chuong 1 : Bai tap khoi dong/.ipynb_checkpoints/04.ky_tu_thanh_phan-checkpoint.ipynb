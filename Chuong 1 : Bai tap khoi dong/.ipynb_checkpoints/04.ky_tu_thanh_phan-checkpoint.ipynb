{
 "cells": [
  {
   "cell_type": "code",
   "execution_count": 14,
   "id": "383a2e3a",
   "metadata": {},
   "outputs": [
    {
     "data": {
      "text/plain": [
       "['Hi',\n",
       " 'He',\n",
       " 'Lied',\n",
       " 'Because',\n",
       " 'Boron',\n",
       " 'Could',\n",
       " 'Not',\n",
       " 'Oxidize',\n",
       " 'Fluorine.',\n",
       " 'New',\n",
       " 'Nations',\n",
       " 'Might',\n",
       " 'Also',\n",
       " 'Sign',\n",
       " 'Peace',\n",
       " 'Security',\n",
       " 'Clause.',\n",
       " 'Arthur',\n",
       " 'King',\n",
       " 'Can.']"
      ]
     },
     "execution_count": 14,
     "metadata": {},
     "output_type": "execute_result"
    }
   ],
   "source": [
    "s = \"Hi He Lied Because Boron Could Not Oxidize Fluorine. New Nations Might Also Sign Peace Security Clause. Arthur King Can.\"\n",
    "token = s.split(\" \")\n",
    "token"
   ]
  },
  {
   "cell_type": "code",
   "execution_count": 25,
   "id": "df261a91",
   "metadata": {},
   "outputs": [],
   "source": [
    "index = [1,5,6,7,8,9,15,16,19]\n",
    "list_char = \"\"\n",
    "for i in range(len(token)):\n",
    "    if (i+1) in index:\n",
    "        list_char = \" \".join([list_char, token[i][:1]])\n",
    "    else:\n",
    "        list_char = \" \".join([list_char, token[i][:2]])"
   ]
  },
  {
   "cell_type": "code",
   "execution_count": 26,
   "id": "7150362a",
   "metadata": {},
   "outputs": [
    {
     "data": {
      "text/plain": [
       "' H He Li Be B C N O F Ne Na Mi Al Si P S Cl Ar K Ca'"
      ]
     },
     "execution_count": 26,
     "metadata": {},
     "output_type": "execute_result"
    }
   ],
   "source": [
    "list_char"
   ]
  },
  {
   "cell_type": "code",
   "execution_count": null,
   "id": "2b3206c6",
   "metadata": {},
   "outputs": [],
   "source": []
  }
 ],
 "metadata": {
  "kernelspec": {
   "display_name": "Python 3",
   "language": "python",
   "name": "python3"
  },
  "language_info": {
   "codemirror_mode": {
    "name": "ipython",
    "version": 3
   },
   "file_extension": ".py",
   "mimetype": "text/x-python",
   "name": "python",
   "nbconvert_exporter": "python",
   "pygments_lexer": "ipython3",
   "version": "3.8.10"
  }
 },
 "nbformat": 4,
 "nbformat_minor": 5
}
