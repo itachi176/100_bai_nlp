{
 "cells": [
  {
   "cell_type": "code",
   "execution_count": 2,
   "id": "003d01e5",
   "metadata": {},
   "outputs": [
    {
     "data": {
      "text/plain": [
       "'desserts'"
      ]
     },
     "execution_count": 2,
     "metadata": {},
     "output_type": "execute_result"
    }
   ],
   "source": [
    "s = 'stressed'\n",
    "\n",
    "def reverser(s):\n",
    "    string = ''\n",
    "    for i in range(len(s)):\n",
    "        string += s[len(s)-i-1]\n",
    "        \n",
    "    return string \n",
    "\n",
    "reverser(s)"
   ]
  },
  {
   "cell_type": "code",
   "execution_count": null,
   "id": "05fc67e5",
   "metadata": {},
   "outputs": [],
   "source": []
  },
  {
   "cell_type": "code",
   "execution_count": null,
   "id": "64caf6a7",
   "metadata": {},
   "outputs": [],
   "source": []
  }
 ],
 "metadata": {
  "kernelspec": {
   "display_name": "Python 3",
   "language": "python",
   "name": "python3"
  },
  "language_info": {
   "codemirror_mode": {
    "name": "ipython",
    "version": 3
   },
   "file_extension": ".py",
   "mimetype": "text/x-python",
   "name": "python",
   "nbconvert_exporter": "python",
   "pygments_lexer": "ipython3",
   "version": "3.8.10"
  }
 },
 "nbformat": 4,
 "nbformat_minor": 5
}
