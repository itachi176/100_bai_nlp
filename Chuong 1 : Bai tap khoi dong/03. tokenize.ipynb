{
 "cells": [
  {
   "cell_type": "code",
   "execution_count": 3,
   "id": "628a7568",
   "metadata": {},
   "outputs": [
    {
     "data": {
      "text/plain": [
       "15"
      ]
     },
     "execution_count": 3,
     "metadata": {},
     "output_type": "execute_result"
    }
   ],
   "source": [
    "para = \"Now I need a drink, alcoholic of course, after the heavy lectures involving quantum mechanics.\"\n",
    "token = para.split(\" \")\n",
    "len(token)"
   ]
  },
  {
   "cell_type": "code",
   "execution_count": 8,
   "id": "489cd947",
   "metadata": {},
   "outputs": [],
   "source": [
    "list_para = []\n",
    "list_para += (len(token[i]) for i in range(15))"
   ]
  },
  {
   "cell_type": "code",
   "execution_count": 9,
   "id": "50e48618",
   "metadata": {},
   "outputs": [
    {
     "name": "stdout",
     "output_type": "stream",
     "text": [
      "[[3, 1, 4, 1, 6, 9, 2, 7, 5, 3, 5, 8, 9, 7, 10]]\n"
     ]
    }
   ],
   "source": [
    "print([list_para])"
   ]
  },
  {
   "cell_type": "code",
   "execution_count": null,
   "id": "ba9b5569",
   "metadata": {},
   "outputs": [],
   "source": []
  }
 ],
 "metadata": {
  "kernelspec": {
   "display_name": "Python 3",
   "language": "python",
   "name": "python3"
  },
  "language_info": {
   "codemirror_mode": {
    "name": "ipython",
    "version": 3
   },
   "file_extension": ".py",
   "mimetype": "text/x-python",
   "name": "python",
   "nbconvert_exporter": "python",
   "pygments_lexer": "ipython3",
   "version": "3.8.10"
  }
 },
 "nbformat": 4,
 "nbformat_minor": 5
}
